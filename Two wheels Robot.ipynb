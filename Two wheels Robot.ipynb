{
 "cells": [
  {
   "cell_type": "markdown",
   "id": "dbeb3859",
   "metadata": {},
   "source": [
    "Moving Two wheeled robot, and operating the two motors independently. with ability\n",
    "to change speed and direction."
   ]
  },
  {
   "cell_type": "markdown",
   "id": "7257ed08",
   "metadata": {},
   "source": [
    "#installing the library:\n",
    "-Open a terminal window\n",
    "-type:sudo pip3 install adafruit-circuitpython-motorkit"
   ]
  },
  {
   "cell_type": "code",
   "execution_count": null,
   "id": "8441e5a3",
   "metadata": {},
   "outputs": [],
   "source": [
    "# drive the motor forward for 1 second, stop the motor for 300 milliseconds, drive the\n",
    "#motor backward for 1 second, and then stop the motor, again, for 300\n",
    "#milliseconds. The program keeps doing this until we stop it:\n",
    "    \n",
    "import time\n",
    "from adafruit_motorkit import MotorKit\n",
    "\n",
    "# creating motor object\n",
    "kit = MotorKit()\n",
    "try:\n",
    "    while True:\n",
    "      # ramp up speed from 1 to 255\n",
    "      for i in range(100):\n",
    "          j = 100-i\n",
    "          # run motors forward 1 second\n",
    "          kit.motor1.throttle = i/100\n",
    "          kit.motor2.throttle = j/100\n",
    "            \n",
    "            \n",
    "      # stop motor for 0.3 s\n",
    "      kit.motor1.throttle = 0.0\n",
    "      kit.motor2.throttle = 0.0\n",
    "      time.sleep(0.3)\n",
    "      \n",
    "     # reversing the direction of the motors\n",
    "      for i in reversed(range(100)):\n",
    "          j = 100-i\n",
    "          # run motors reverse 1 second\n",
    "          kit.motor1.throttle = i/100\n",
    "          kit.motor2.throttle = j/100\n",
    "        \n",
    "      # stop motor for 0.3 s\n",
    "      kit.motor1.throttle = 0.0\n",
    "      kit.motor2.throttle = 0.0\n",
    "      time.sleep(0.3)\n",
    "        \n",
    "# The program keeps doing this until we stop it by pressing Ctrl-C on the keyboard        \n",
    "except KeyboardInterrupt:\n",
    "    kit.motor1.throttle = 0.0\n",
    "    kit.motor2.throttle = 0.0     "
   ]
  }
 ],
 "metadata": {
  "kernelspec": {
   "display_name": "Python 3 (ipykernel)",
   "language": "python",
   "name": "python3"
  },
  "language_info": {
   "codemirror_mode": {
    "name": "ipython",
    "version": 3
   },
   "file_extension": ".py",
   "mimetype": "text/x-python",
   "name": "python",
   "nbconvert_exporter": "python",
   "pygments_lexer": "ipython3",
   "version": "3.9.7"
  }
 },
 "nbformat": 4,
 "nbformat_minor": 5
}
